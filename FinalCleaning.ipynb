{
 "cells": [
  {
   "cell_type": "code",
   "execution_count": 1,
   "id": "4c9abd42-a576-4b67-a761-3dc04990dd4e",
   "metadata": {},
   "outputs": [],
   "source": [
    "import pandas as pd\n",
    "import numpy as np\n",
    "import pgeocode"
   ]
  },
  {
   "cell_type": "code",
   "execution_count": 2,
   "id": "86456cb2-842b-4b7d-96f9-7369a974293c",
   "metadata": {},
   "outputs": [],
   "source": [
    "COLS_TO_DROP = [\n",
    "    'Date received',\n",
    "    'Consumer complaint narrative',\n",
    "    'Company public response',\n",
    "    'Tags',\n",
    "    'Date sent to company',\n",
    "    'Timely response?',\n",
    "    'Consumer disputed?',\n",
    "    'Complaint ID'\n",
    "]"
   ]
  },
  {
   "cell_type": "code",
   "execution_count": 3,
   "id": "62c6d914-bd78-4f6e-a528-01021a2f39d8",
   "metadata": {},
   "outputs": [],
   "source": [
    "STATE_CAPITAL_ZIPS = {\n",
    "    'AL': '36104', 'AK': '99801', 'AZ': '85007', 'AR': '72201', 'CA': '95814',\n",
    "    'CO': '80203', 'CT': '06106', 'DE': '19901', 'FL': '32301', 'GA': '30334',\n",
    "    'HI': '96813', 'ID': '83702', 'IL': '62701', 'IN': '46225', 'IA': '50319',\n",
    "    'KS': '66612', 'KY': '40601', 'LA': '70802', 'ME': '04330', 'MD': '21401',\n",
    "    'MA': '02133', 'MI': '48933', 'MN': '55155', 'MS': '39201', 'MO': '65101',\n",
    "    'MT': '59620', 'NE': '68508', 'NV': '89701', 'NH': '03301', 'NJ': '08608',\n",
    "    'NM': '87501', 'NY': '12210', 'NC': '27601', 'ND': '58501', 'OH': '43215',\n",
    "    'OK': '73102', 'OR': '97301', 'PA': '17120', 'RI': '02903', 'SC': '29201',\n",
    "    'SD': '57501', 'TN': '37219', 'TX': '78701', 'UT': '84114', 'VT': '05602',\n",
    "    'VA': '23219', 'WA': '98504', 'WV': '25301', 'WI': '53703', 'WY': '82001',\n",
    "    'AS': '96799', 'DC': '20001', 'FM': '96941', 'GU': '96910', 'MH': '96960',\n",
    "    'MP': '96950', 'PR': '00901', 'PW': '96940', 'VI': '00802'\n",
    "}"
   ]
  },
  {
   "cell_type": "code",
   "execution_count": 4,
   "id": "0319b4db-8f71-43d4-beda-209862e02a75",
   "metadata": {},
   "outputs": [],
   "source": [
    "def clean_zip_code_part4(zip_code):\n",
    "    if pd.isna(zip_code):\n",
    "        return None\n",
    "    zip_str = str(zip_code).split('.')[0]\n",
    "    zip_digits = ''.join(filter(str.isdigit, zip_str))\n",
    "    if len(zip_digits) < 5:\n",
    "        return zip_digits.zfill(5)\n",
    "    elif len(zip_digits) > 5:\n",
    "        return zip_digits[:5]\n",
    "    return zip_digits"
   ]
  },
  {
   "cell_type": "code",
   "execution_count": 5,
   "id": "34b8bc35-db7b-4c56-a4b0-4c51f6e34c48",
   "metadata": {},
   "outputs": [],
   "source": [
    "nomi = pgeocode.Nominatim('us')\n",
    "\n",
    "def get_state_from_zip(zip_code):\n",
    "    if pd.isna(zip_code) or not isinstance(zip_code, str) or len(zip_code) != 5:\n",
    "        return None\n",
    "    try:\n",
    "        query = nomi.query_postal_code(zip_code)\n",
    "        if pd.notna(query['state_code']):\n",
    "            return query['state_code']\n",
    "        else:\n",
    "            return None\n",
    "    except Exception:\n",
    "        return None"
   ]
  },
  {
   "cell_type": "code",
   "execution_count": 6,
   "id": "0af17c55-0b4b-4b27-82c8-219bc6dc6fd9",
   "metadata": {},
   "outputs": [
    {
     "name": "stdout",
     "output_type": "stream",
     "text": [
      "Success and shape: (139894, 18)\n",
      "Initial dtype of 'ZIP code': object\n"
     ]
    },
    {
     "name": "stderr",
     "output_type": "stream",
     "text": [
      "C:\\Users\\ncpr0\\AppData\\Local\\Temp\\ipykernel_12380\\1495614252.py:12: DtypeWarning: Columns (6) have mixed types. Specify dtype option on import or set low_memory=False.\n",
      "  df = pd.read_csv(input_filename, dtype={zip_col_name: str})\n"
     ]
    }
   ],
   "source": [
    "input_filename = \"complaints-2025-05-01_22_48.csv\"\n",
    "try:\n",
    "    temp_df_cols = pd.read_csv(input_filename, nrows=0).columns\n",
    "    zip_col_name = None\n",
    "    possible_zip_names = ['ZIP code', 'zip code', 'Zip code', 'Postal code']\n",
    "    for name in possible_zip_names:\n",
    "        if name in temp_df_cols:\n",
    "            zip_col_name = name\n",
    "            break\n",
    "    if not zip_col_name:\n",
    "        raise ValueError(\"Could not find a suitable ZIP code column name.\")\n",
    "    df = pd.read_csv(input_filename, dtype={zip_col_name: str})\n",
    "    print(f\"Success and shape: {df.shape}\")\n",
    "    print(f\"Initial dtype of '{zip_col_name}': {df[zip_col_name].dtype}\")\n",
    "except FileNotFoundError:\n",
    "    print(f\"Error: {input_filename}\")\n",
    "    exit()\n",
    "except ValueError as ve:\n",
    "     print(f\"Error: {ve}\")\n",
    "     exit()\n",
    "except Exception as e:\n",
    "    print(f\"Error loading data: {e}\")\n",
    "    exit()"
   ]
  },
  {
   "cell_type": "code",
   "execution_count": 7,
   "id": "36dd35a8-cb47-49ca-b0f2-6f0bd763c764",
   "metadata": {},
   "outputs": [
    {
     "name": "stdout",
     "output_type": "stream",
     "text": [
      "Dropped columns: ['Date received', 'Consumer complaint narrative', 'Company public response', 'Tags', 'Date sent to company', 'Timely response?', 'Consumer disputed?', 'Complaint ID']\n",
      "Shape after dropping columns: (139894, 10)\n"
     ]
    }
   ],
   "source": [
    "initial_rows = len(df)\n",
    "cols_to_drop_existing = [col for col in COLS_TO_DROP if col in df.columns]\n",
    "df.drop(columns=cols_to_drop_existing, inplace=True)\n",
    "print(f\"Dropped columns: {cols_to_drop_existing}\")\n",
    "print(f\"Shape after dropping columns: {df.shape}\")"
   ]
  },
  {
   "cell_type": "code",
   "execution_count": 8,
   "id": "2fb456dd-327e-40ab-addd-ac1ab46b1349",
   "metadata": {},
   "outputs": [
    {
     "name": "stdout",
     "output_type": "stream",
     "text": [
      "Cleaned ZIP code column created dtype: object\n"
     ]
    }
   ],
   "source": [
    "df['zip_code_clean'] = df[zip_col_name].apply(clean_zip_code_part4)\n",
    "print(f\"Cleaned ZIP code column created dtype: {df['zip_code_clean'].dtype}\")"
   ]
  },
  {
   "cell_type": "code",
   "execution_count": 9,
   "id": "75eb469d-f7d3-4f6e-905c-f7f2bb9b5484",
   "metadata": {},
   "outputs": [
    {
     "name": "stdout",
     "output_type": "stream",
     "text": [
      "Original column 'ZIP code' dropped.\n"
     ]
    }
   ],
   "source": [
    "if zip_col_name in df.columns:\n",
    "    df.drop(columns=[zip_col_name], inplace=True)\n",
    "    print(f\"Original column '{zip_col_name}' dropped.\")"
   ]
  },
  {
   "cell_type": "code",
   "execution_count": 10,
   "id": "3f7751ec-9ab9-456e-94e5-898665cbe226",
   "metadata": {},
   "outputs": [],
   "source": [
    "state_col_name = None\n",
    "possible_state_names = ['State', 'state']\n",
    "for name in possible_state_names:\n",
    "    if name in df.columns:\n",
    "        state_col_name = name\n",
    "        break"
   ]
  },
  {
   "cell_type": "code",
   "execution_count": 11,
   "id": "0b476609-0e83-40dd-a889-5d553d5c0333",
   "metadata": {},
   "outputs": [
    {
     "name": "stdout",
     "output_type": "stream",
     "text": [
      "Handling missing values in 'State' and zip_code_clean\n",
      "Initial missing States: 2574\n",
      "Initial missing Cleaned ZIPs: 1633\n",
      "Attempting to impute 11 missing ZIP codes using state capitals\n",
      "Imputed ZIPs based on state. Missing ZIPs remaining: 1622\n",
      "Attempting to impute 952 missing States using ZIP codes\n",
      "Imputed States based on ZIP. Missing States remaining: 2532\n",
      "Dropped 1622 rows where both state and cleaned ZIP were missing.\n",
      "Shape after handling missing State/ZIP: (138272, 10)\n"
     ]
    }
   ],
   "source": [
    "if not state_col_name:\n",
    "    print(\"Could not find a state column\")\n",
    "else:\n",
    "    print(f\"Handling missing values in '{state_col_name}' and zip_code_clean\")\n",
    "    print(f\"Initial missing States: {df[state_col_name].isnull().sum()}\")\n",
    "    print(f\"Initial missing Cleaned ZIPs: {df['zip_code_clean'].isnull().sum()}\")\n",
    "\n",
    "    missing_zip_mask = df['zip_code_clean'].isnull() & df[state_col_name].notnull()\n",
    "    num_imputed_zips = missing_zip_mask.sum()\n",
    "    if num_imputed_zips > 0:\n",
    "        print(f\"Attempting to impute {num_imputed_zips} missing ZIP codes using state capitals\")\n",
    "        df.loc[missing_zip_mask, 'zip_code_clean'] = df.loc[missing_zip_mask, state_col_name].map(STATE_CAPITAL_ZIPS)\n",
    "        print(f\"Imputed ZIPs based on state. Missing ZIPs remaining: {df['zip_code_clean'].isnull().sum()}\")\n",
    "    else:\n",
    "        print(\"No missing ZIPs found where state was present.\")\n",
    "\n",
    "    missing_state_mask = df[state_col_name].isnull() & df['zip_code_clean'].notnull()\n",
    "    num_imputed_states = missing_state_mask.sum()\n",
    "    if num_imputed_states > 0:\n",
    "        print(f\"Attempting to impute {num_imputed_states} missing States using ZIP codes\")\n",
    "        imputed_states = df.loc[missing_state_mask, 'zip_code_clean'].apply(get_state_from_zip)\n",
    "        df.loc[missing_state_mask, state_col_name] = imputed_states\n",
    "        print(f\"Imputed States based on ZIP. Missing States remaining: {df[state_col_name].isnull().sum()}\")\n",
    "    else:\n",
    "        print(\"No missing States found where ZIP was present.\")\n",
    "        \n",
    "    rows_before_drop = len(df)\n",
    "    df = df[df[state_col_name].notnull() | df['zip_code_clean'].notnull()]\n",
    "    rows_after_drop = len(df)\n",
    "    print(f\"Dropped {rows_before_drop - rows_after_drop} rows where both state and cleaned ZIP were missing.\")\n",
    "    print(f\"Shape after handling missing State/ZIP: {df.shape}\")"
   ]
  },
  {
   "cell_type": "code",
   "execution_count": 12,
   "id": "2efde3c7-31ee-4d06-8c0d-c3fbfe080986",
   "metadata": {},
   "outputs": [],
   "source": [
    "final_col_names = [\n",
    "    'Product',\n",
    "    'Sub-product',\n",
    "    'Issue',\n",
    "    'Sub-issue',\n",
    "    'Company response to consumer',\n",
    "    'Company',\n",
    "    state_col_name, \n",
    "    'zip_code_clean' \n",
    "]"
   ]
  },
  {
   "cell_type": "code",
   "execution_count": 13,
   "id": "adf71aaa-35fa-4843-ba87-78f6e3c25ad2",
   "metadata": {},
   "outputs": [],
   "source": [
    "final_cols_existing = [col for col in final_col_names if col in df.columns]\n",
    "\n",
    "df_cleaned = df[final_cols_existing].copy() \n",
    "df_cleaned['zip_code_clean'] = df_cleaned['zip_code_clean'].astype(str)\n",
    "if state_col_name in df_cleaned.columns:\n",
    "    df_cleaned[state_col_name] = df_cleaned[state_col_name].astype(str)"
   ]
  },
  {
   "cell_type": "code",
   "execution_count": 14,
   "id": "2d7c81a8-12c5-46d1-a999-14832c6f8119",
   "metadata": {},
   "outputs": [
    {
     "name": "stdout",
     "output_type": "stream",
     "text": [
      "Final columns selected: ['Product', 'Sub-product', 'Issue', 'Sub-issue', 'Company response to consumer', 'Company', 'State', 'zip_code_clean']\n",
      "\n",
      "--- Final Cleaned Data Overview ---\n",
      "Final Shape: (138272, 8)\n",
      "Rows remaining: 138272 (out of 139894)\n",
      "\n",
      "Data Types:\n",
      "Product                         object\n",
      "Sub-product                     object\n",
      "Issue                           object\n",
      "Sub-issue                       object\n",
      "Company response to consumer    object\n",
      "Company                         object\n",
      "State                           object\n",
      "zip_code_clean                  object\n",
      "dtype: object\n",
      "\n",
      "Missing values per column:\n",
      "Product                             0\n",
      "Sub-product                     10521\n",
      "Issue                               0\n",
      "Sub-issue                       52613\n",
      "Company response to consumer        0\n",
      "Company                             0\n",
      "State                               0\n",
      "zip_code_clean                      0\n",
      "dtype: int64\n",
      "\n",
      "First 5 rows:\n",
      "                                             Product  \\\n",
      "0                                        Credit card   \n",
      "1  Money transfer, virtual currency, or money ser...   \n",
      "2                                    Debt collection   \n",
      "3                                        Credit card   \n",
      "4                        Checking or savings account   \n",
      "\n",
      "                                  Sub-product  \\\n",
      "0  General-purpose credit card or charge card   \n",
      "1                Domestic (US) money transfer   \n",
      "2                            Credit card debt   \n",
      "3  General-purpose credit card or charge card   \n",
      "4                            Checking account   \n",
      "\n",
      "                                             Issue  \\\n",
      "0  Problem with a purchase shown on your statement   \n",
      "1                                    Fraud or scam   \n",
      "2                Attempts to collect debt not owed   \n",
      "3               Other features, terms, or problems   \n",
      "4           Problem caused by your funds being low   \n",
      "\n",
      "                                           Sub-issue  \\\n",
      "0  Credit card company isn't resolving a dispute ...   \n",
      "1                                                NaN   \n",
      "2                  Debt was result of identity theft   \n",
      "3                                      Other problem   \n",
      "4                      Overdrafts and overdraft fees   \n",
      "\n",
      "      Company response to consumer               Company State zip_code_clean  \n",
      "0          Closed with explanation  JPMORGAN CHASE & CO.    PA          00194  \n",
      "1          Closed with explanation  JPMORGAN CHASE & CO.    NY          11214  \n",
      "2  Closed with non-monetary relief  JPMORGAN CHASE & CO.    CA          92057  \n",
      "3          Closed with explanation  JPMORGAN CHASE & CO.    VA          00223  \n",
      "4          Closed with explanation  JPMORGAN CHASE & CO.    NY          00146  \n"
     ]
    }
   ],
   "source": [
    "print(f\"Final columns selected: {final_cols_existing}\")\n",
    "\n",
    "print(\"\\n--- Final Cleaned Data Overview ---\")\n",
    "print(f\"Final Shape: {df_cleaned.shape}\")\n",
    "print(f\"Rows remaining: {len(df_cleaned)} (out of {initial_rows})\")\n",
    "print(\"\\nData Types:\")\n",
    "print(df_cleaned.dtypes)\n",
    "print(\"\\nMissing values per column:\")\n",
    "print(df_cleaned.isnull().sum()) \n",
    "print(\"\\nFirst 5 rows:\")\n",
    "print(df_cleaned.head())\n",
    "\n",
    "# output_filename = \"part_4_data_cleaning.csv\"\n",
    "# try:\n",
    "#     df_cleaned.to_csv(output_filename, index=False)\n",
    "#     print(f\"\\nCleaned data successfully saved to '{output_filename}'\")\n",
    "# except Exception as e:\n",
    "#     print(f\"\\nError saving cleaned data: {e}\")\n",
    "\n",
    "# print(\"\\nData cleaning script finished.\")\n",
    "\n"
   ]
  },
  {
   "cell_type": "code",
   "execution_count": null,
   "id": "02a56e07-2207-49f5-8bfa-39ef7f365304",
   "metadata": {},
   "outputs": [],
   "source": []
  }
 ],
 "metadata": {
  "kernelspec": {
   "display_name": "Python [conda env:base] *",
   "language": "python",
   "name": "conda-base-py"
  },
  "language_info": {
   "codemirror_mode": {
    "name": "ipython",
    "version": 3
   },
   "file_extension": ".py",
   "mimetype": "text/x-python",
   "name": "python",
   "nbconvert_exporter": "python",
   "pygments_lexer": "ipython3",
   "version": "3.12.7"
  }
 },
 "nbformat": 4,
 "nbformat_minor": 5
}
